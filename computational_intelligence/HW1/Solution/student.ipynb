{
 "cells": [
  {
   "cell_type": "code",
   "execution_count": 2,
   "metadata": {},
   "outputs": [],
   "source": [
    "from tensorflow import keras\n",
    "import tensorflow as tf\n",
    "from sklearn.model_selection import train_test_split\n",
    "from sklearn.preprocessing import LabelEncoder\n",
    "import matplotlib.pyplot as plt\n",
    "import pandas as pd"
   ]
  },
  {
   "cell_type": "code",
   "execution_count": 3,
   "metadata": {},
   "outputs": [
    {
     "name": "stdout",
     "output_type": "stream",
     "text": [
      "   StudentID  Age  Gender         Ethnicity ParentalEducation  \\\n",
      "0       3321   17       1         Caucasian       High School   \n",
      "1       1160   18       0         Caucasian       High School   \n",
      "2       2644   16       0             Other      Some College   \n",
      "3       2321   18       0             Asian       High School   \n",
      "4       2419   15       1  African American          Bachelor   \n",
      "\n",
      "   StudyTimeWeekly  Absences  Tutoring ParentalSupport  Extracurricular  \\\n",
      "0         9.906353        25         0            High                1   \n",
      "1         4.681156        20         0            High                0   \n",
      "2         6.845312        13         0             NaN                0   \n",
      "3        19.885760         2         0            High                1   \n",
      "4        14.806261        20         0       Very High                0   \n",
      "\n",
      "   Sports  Music  Volunteering       GPA  \n",
      "0       1      0             0  1.082390  \n",
      "1       0      0             1  1.189549  \n",
      "2       0      1             0  1.852672  \n",
      "3       0      0             0  3.517237  \n",
      "4       0      0             0  1.582093  \n",
      "<class 'pandas.core.frame.DataFrame'>\n",
      "RangeIndex: 1530 entries, 0 to 1529\n",
      "Data columns (total 14 columns):\n",
      " #   Column             Non-Null Count  Dtype  \n",
      "---  ------             --------------  -----  \n",
      " 0   StudentID          1530 non-null   int64  \n",
      " 1   Age                1530 non-null   int64  \n",
      " 2   Gender             1530 non-null   int64  \n",
      " 3   Ethnicity          1530 non-null   object \n",
      " 4   ParentalEducation  1388 non-null   object \n",
      " 5   StudyTimeWeekly    1530 non-null   float64\n",
      " 6   Absences           1530 non-null   int64  \n",
      " 7   Tutoring           1530 non-null   int64  \n",
      " 8   ParentalSupport    1398 non-null   object \n",
      " 9   Extracurricular    1530 non-null   int64  \n",
      " 10  Sports             1530 non-null   int64  \n",
      " 11  Music              1530 non-null   int64  \n",
      " 12  Volunteering       1530 non-null   int64  \n",
      " 13  GPA                1530 non-null   float64\n",
      "dtypes: float64(2), int64(9), object(3)\n",
      "memory usage: 167.5+ KB\n",
      "None\n",
      "StudentID              0\n",
      "Age                    0\n",
      "Gender                 0\n",
      "Ethnicity              0\n",
      "ParentalEducation    142\n",
      "StudyTimeWeekly        0\n",
      "Absences               0\n",
      "Tutoring               0\n",
      "ParentalSupport      132\n",
      "Extracurricular        0\n",
      "Sports                 0\n",
      "Music                  0\n",
      "Volunteering           0\n",
      "GPA                    0\n",
      "dtype: int64\n"
     ]
    }
   ],
   "source": [
    "df_train = pd.read_csv(\"train.csv\")#loading train data\n",
    "df_test = pd.read_csv(\"test.csv\")#loading test data\n",
    "\n",
    "print(df_train.head())\n",
    "print(df_train.info())\n",
    "print(df_train.isnull().sum())\n",
    "#these got used to see and get to know data better"
   ]
  },
  {
   "cell_type": "markdown",
   "metadata": {},
   "source": [
    "- Preprocessing Data\n",
    "  - eliminating or replacement of missing data\n",
    "  - converting categorial features to numercial features\n",
    "  - normalizing numercial features\n",
    "  "
   ]
  },
  {
   "cell_type": "code",
   "execution_count": 4,
   "metadata": {},
   "outputs": [],
   "source": [
    "#all the features that had null value had object type so they got replaced by most repetative value\n",
    "df_train[\"ParentalEducation\"]=df_train[\"ParentalEducation\"].fillna(df_train[\"ParentalEducation\"].mode()[0])\n",
    "df_test[\"ParentalEducation\"]=df_test[\"ParentalEducation\"].fillna(df_test[\"ParentalEducation\"].mode()[0])\n",
    "df_train[\"ParentalSupport\"]=df_train[\"ParentalSupport\"].fillna(df_train[\"ParentalSupport\"].mode()[0])\n",
    "df_test[\"ParentalSupport\"]=df_test[\"ParentalSupport\"].fillna(df_test[\"ParentalSupport\"].mode()[0])"
   ]
  },
  {
   "cell_type": "code",
   "execution_count": 6,
   "metadata": {},
   "outputs": [],
   "source": [
    "#converting categorial features to numercial features\n",
    "#those ones that had object type got converted\n",
    "label_encoders = {}\n",
    "categorical_features = [\"Ethnicity\", \"ParentalEducation\", \"ParentalSupport\"]\n",
    "for col in categorical_features:\n",
    "    le = LabelEncoder()\n",
    "    df_train[col] = le.fit_transform(df_train[col])\n",
    "    df_test[col] = le.transform(df_test[col])\n",
    "    label_encoders[col] = le"
   ]
  },
  {
   "cell_type": "code",
   "execution_count": 7,
   "metadata": {},
   "outputs": [],
   "source": [
    "#getting the nd_array of x and y component of data\n",
    "x_train = df_train.drop(columns=['GPA']).values\n",
    "y_train = df_train['GPA'].values\n",
    "x_test = df_test.drop(columns=['GPA']).values\n",
    "y_test = df_test['GPA'].values"
   ]
  },
  {
   "cell_type": "markdown",
   "metadata": {},
   "source": [
    "- Splitting train Data into Train and Val Sets\n",
    "- Normalizing X Component of Data"
   ]
  },
  {
   "cell_type": "code",
   "execution_count": 8,
   "metadata": {},
   "outputs": [],
   "source": [
    "#splitting\n",
    "x_train, x_val, y_train, y_val = train_test_split(x_train, y_train, test_size=0.2, random_state=42)"
   ]
  },
  {
   "cell_type": "code",
   "execution_count": 10,
   "metadata": {},
   "outputs": [],
   "source": [
    "#normalizing\n",
    "normalizer = tf.keras.layers.Normalization()\n",
    "normalizer.adapt(x_train)\n",
    "normalizer.adapt(x_test)\n",
    "normalizer.adapt(x_val)\n",
    "x_train = normalizer(x_train)\n",
    "x_test = normalizer(x_test)\n",
    "x_val=normalizer(x_val)"
   ]
  },
  {
   "cell_type": "markdown",
   "metadata": {},
   "source": [
    "- Defining Neural Network"
   ]
  },
  {
   "cell_type": "code",
   "execution_count": 11,
   "metadata": {},
   "outputs": [],
   "source": [
    "model = keras.Sequential([\n",
    "    keras.layers.Dense(28, activation='relu'),#we have 14 geatures hence the number of neurons in first layer should be aroud 28 to 42\n",
    "    #in each hidden layer number of neurons get halfed\n",
    "    keras.layers.Dense(15, activation='relu'),\n",
    "    keras.layers.Dense(8, activation='relu'),\n",
    "    keras.layers.Dense(1) \n",
    "])"
   ]
  },
  {
   "cell_type": "markdown",
   "metadata": {},
   "source": [
    "- Fitting Model With Adam Optimizer and MSE as Loss Function"
   ]
  },
  {
   "cell_type": "code",
   "execution_count": 12,
   "metadata": {},
   "outputs": [],
   "source": [
    "model.compile(optimizer=keras.optimizers.Adam(), loss='mse', metrics=['mae'])\n",
    "#our metric is mae because our task is regression"
   ]
  },
  {
   "cell_type": "code",
   "execution_count": 13,
   "metadata": {},
   "outputs": [
    {
     "name": "stdout",
     "output_type": "stream",
     "text": [
      "Epoch 1/100\n",
      "\u001b[1m77/77\u001b[0m \u001b[32m━━━━━━━━━━━━━━━━━━━━\u001b[0m\u001b[37m\u001b[0m \u001b[1m1s\u001b[0m 3ms/step - loss: 1.7191 - mae: 1.0827 - val_loss: 0.8608 - val_mae: 0.7685\n",
      "Epoch 2/100\n",
      "\u001b[1m77/77\u001b[0m \u001b[32m━━━━━━━━━━━━━━━━━━━━\u001b[0m\u001b[37m\u001b[0m \u001b[1m0s\u001b[0m 1ms/step - loss: 0.6220 - mae: 0.6354 - val_loss: 0.3976 - val_mae: 0.5192\n",
      "Epoch 3/100\n",
      "\u001b[1m77/77\u001b[0m \u001b[32m━━━━━━━━━━━━━━━━━━━━\u001b[0m\u001b[37m\u001b[0m \u001b[1m0s\u001b[0m 2ms/step - loss: 0.3010 - mae: 0.4409 - val_loss: 0.2127 - val_mae: 0.3755\n",
      "Epoch 4/100\n",
      "\u001b[1m77/77\u001b[0m \u001b[32m━━━━━━━━━━━━━━━━━━━━\u001b[0m\u001b[37m\u001b[0m \u001b[1m0s\u001b[0m 2ms/step - loss: 0.1672 - mae: 0.3229 - val_loss: 0.1600 - val_mae: 0.3219\n",
      "Epoch 5/100\n",
      "\u001b[1m77/77\u001b[0m \u001b[32m━━━━━━━━━━━━━━━━━━━━\u001b[0m\u001b[37m\u001b[0m \u001b[1m0s\u001b[0m 2ms/step - loss: 0.1456 - mae: 0.2976 - val_loss: 0.1372 - val_mae: 0.2946\n",
      "Epoch 6/100\n",
      "\u001b[1m77/77\u001b[0m \u001b[32m━━━━━━━━━━━━━━━━━━━━\u001b[0m\u001b[37m\u001b[0m \u001b[1m0s\u001b[0m 1ms/step - loss: 0.1183 - mae: 0.2706 - val_loss: 0.1232 - val_mae: 0.2799\n",
      "Epoch 7/100\n",
      "\u001b[1m77/77\u001b[0m \u001b[32m━━━━━━━━━━━━━━━━━━━━\u001b[0m\u001b[37m\u001b[0m \u001b[1m0s\u001b[0m 1ms/step - loss: 0.1099 - mae: 0.2655 - val_loss: 0.1112 - val_mae: 0.2646\n",
      "Epoch 8/100\n",
      "\u001b[1m77/77\u001b[0m \u001b[32m━━━━━━━━━━━━━━━━━━━━\u001b[0m\u001b[37m\u001b[0m \u001b[1m0s\u001b[0m 2ms/step - loss: 0.1013 - mae: 0.2517 - val_loss: 0.1035 - val_mae: 0.2539\n",
      "Epoch 9/100\n",
      "\u001b[1m77/77\u001b[0m \u001b[32m━━━━━━━━━━━━━━━━━━━━\u001b[0m\u001b[37m\u001b[0m \u001b[1m0s\u001b[0m 2ms/step - loss: 0.0851 - mae: 0.2314 - val_loss: 0.0976 - val_mae: 0.2483\n",
      "Epoch 10/100\n",
      "\u001b[1m77/77\u001b[0m \u001b[32m━━━━━━━━━━━━━━━━━━━━\u001b[0m\u001b[37m\u001b[0m \u001b[1m0s\u001b[0m 1ms/step - loss: 0.0828 - mae: 0.2278 - val_loss: 0.0910 - val_mae: 0.2400\n",
      "Epoch 11/100\n",
      "\u001b[1m77/77\u001b[0m \u001b[32m━━━━━━━━━━━━━━━━━━━━\u001b[0m\u001b[37m\u001b[0m \u001b[1m0s\u001b[0m 1ms/step - loss: 0.0785 - mae: 0.2214 - val_loss: 0.0857 - val_mae: 0.2337\n",
      "Epoch 12/100\n",
      "\u001b[1m77/77\u001b[0m \u001b[32m━━━━━━━━━━━━━━━━━━━━\u001b[0m\u001b[37m\u001b[0m \u001b[1m0s\u001b[0m 1ms/step - loss: 0.0691 - mae: 0.2102 - val_loss: 0.0810 - val_mae: 0.2280\n",
      "Epoch 13/100\n",
      "\u001b[1m77/77\u001b[0m \u001b[32m━━━━━━━━━━━━━━━━━━━━\u001b[0m\u001b[37m\u001b[0m \u001b[1m0s\u001b[0m 1ms/step - loss: 0.0680 - mae: 0.2096 - val_loss: 0.0779 - val_mae: 0.2238\n",
      "Epoch 14/100\n",
      "\u001b[1m77/77\u001b[0m \u001b[32m━━━━━━━━━━━━━━━━━━━━\u001b[0m\u001b[37m\u001b[0m \u001b[1m0s\u001b[0m 1ms/step - loss: 0.0706 - mae: 0.2139 - val_loss: 0.0745 - val_mae: 0.2182\n",
      "Epoch 15/100\n",
      "\u001b[1m77/77\u001b[0m \u001b[32m━━━━━━━━━━━━━━━━━━━━\u001b[0m\u001b[37m\u001b[0m \u001b[1m0s\u001b[0m 1ms/step - loss: 0.0630 - mae: 0.1972 - val_loss: 0.0730 - val_mae: 0.2164\n",
      "Epoch 16/100\n",
      "\u001b[1m77/77\u001b[0m \u001b[32m━━━━━━━━━━━━━━━━━━━━\u001b[0m\u001b[37m\u001b[0m \u001b[1m0s\u001b[0m 1ms/step - loss: 0.0598 - mae: 0.1963 - val_loss: 0.0711 - val_mae: 0.2128\n",
      "Epoch 17/100\n",
      "\u001b[1m77/77\u001b[0m \u001b[32m━━━━━━━━━━━━━━━━━━━━\u001b[0m\u001b[37m\u001b[0m \u001b[1m0s\u001b[0m 1ms/step - loss: 0.0545 - mae: 0.1869 - val_loss: 0.0695 - val_mae: 0.2117\n",
      "Epoch 18/100\n",
      "\u001b[1m77/77\u001b[0m \u001b[32m━━━━━━━━━━━━━━━━━━━━\u001b[0m\u001b[37m\u001b[0m \u001b[1m0s\u001b[0m 1ms/step - loss: 0.0551 - mae: 0.1889 - val_loss: 0.0674 - val_mae: 0.2079\n",
      "Epoch 19/100\n",
      "\u001b[1m77/77\u001b[0m \u001b[32m━━━━━━━━━━━━━━━━━━━━\u001b[0m\u001b[37m\u001b[0m \u001b[1m0s\u001b[0m 1ms/step - loss: 0.0522 - mae: 0.1808 - val_loss: 0.0672 - val_mae: 0.2083\n",
      "Epoch 20/100\n",
      "\u001b[1m77/77\u001b[0m \u001b[32m━━━━━━━━━━━━━━━━━━━━\u001b[0m\u001b[37m\u001b[0m \u001b[1m0s\u001b[0m 1ms/step - loss: 0.0514 - mae: 0.1807 - val_loss: 0.0656 - val_mae: 0.2051\n",
      "Epoch 21/100\n",
      "\u001b[1m77/77\u001b[0m \u001b[32m━━━━━━━━━━━━━━━━━━━━\u001b[0m\u001b[37m\u001b[0m \u001b[1m0s\u001b[0m 1ms/step - loss: 0.0477 - mae: 0.1765 - val_loss: 0.0663 - val_mae: 0.2061\n",
      "Epoch 22/100\n",
      "\u001b[1m77/77\u001b[0m \u001b[32m━━━━━━━━━━━━━━━━━━━━\u001b[0m\u001b[37m\u001b[0m \u001b[1m0s\u001b[0m 1ms/step - loss: 0.0474 - mae: 0.1737 - val_loss: 0.0665 - val_mae: 0.2049\n",
      "Epoch 23/100\n",
      "\u001b[1m77/77\u001b[0m \u001b[32m━━━━━━━━━━━━━━━━━━━━\u001b[0m\u001b[37m\u001b[0m \u001b[1m0s\u001b[0m 1ms/step - loss: 0.0474 - mae: 0.1740 - val_loss: 0.0637 - val_mae: 0.2007\n",
      "Epoch 24/100\n",
      "\u001b[1m77/77\u001b[0m \u001b[32m━━━━━━━━━━━━━━━━━━━━\u001b[0m\u001b[37m\u001b[0m \u001b[1m0s\u001b[0m 1ms/step - loss: 0.0434 - mae: 0.1675 - val_loss: 0.0631 - val_mae: 0.2000\n",
      "Epoch 25/100\n",
      "\u001b[1m77/77\u001b[0m \u001b[32m━━━━━━━━━━━━━━━━━━━━\u001b[0m\u001b[37m\u001b[0m \u001b[1m0s\u001b[0m 1ms/step - loss: 0.0442 - mae: 0.1681 - val_loss: 0.0641 - val_mae: 0.2009\n",
      "Epoch 26/100\n",
      "\u001b[1m77/77\u001b[0m \u001b[32m━━━━━━━━━━━━━━━━━━━━\u001b[0m\u001b[37m\u001b[0m \u001b[1m0s\u001b[0m 1ms/step - loss: 0.0436 - mae: 0.1683 - val_loss: 0.0626 - val_mae: 0.1977\n",
      "Epoch 27/100\n",
      "\u001b[1m77/77\u001b[0m \u001b[32m━━━━━━━━━━━━━━━━━━━━\u001b[0m\u001b[37m\u001b[0m \u001b[1m0s\u001b[0m 2ms/step - loss: 0.0413 - mae: 0.1620 - val_loss: 0.0635 - val_mae: 0.1979\n",
      "Epoch 28/100\n",
      "\u001b[1m77/77\u001b[0m \u001b[32m━━━━━━━━━━━━━━━━━━━━\u001b[0m\u001b[37m\u001b[0m \u001b[1m0s\u001b[0m 1ms/step - loss: 0.0428 - mae: 0.1659 - val_loss: 0.0619 - val_mae: 0.1969\n",
      "Epoch 29/100\n",
      "\u001b[1m77/77\u001b[0m \u001b[32m━━━━━━━━━━━━━━━━━━━━\u001b[0m\u001b[37m\u001b[0m \u001b[1m0s\u001b[0m 1ms/step - loss: 0.0417 - mae: 0.1626 - val_loss: 0.0641 - val_mae: 0.2007\n",
      "Epoch 30/100\n",
      "\u001b[1m77/77\u001b[0m \u001b[32m━━━━━━━━━━━━━━━━━━━━\u001b[0m\u001b[37m\u001b[0m \u001b[1m0s\u001b[0m 1ms/step - loss: 0.0420 - mae: 0.1631 - val_loss: 0.0632 - val_mae: 0.1965\n",
      "Epoch 31/100\n",
      "\u001b[1m77/77\u001b[0m \u001b[32m━━━━━━━━━━━━━━━━━━━━\u001b[0m\u001b[37m\u001b[0m \u001b[1m0s\u001b[0m 1ms/step - loss: 0.0394 - mae: 0.1582 - val_loss: 0.0648 - val_mae: 0.1998\n",
      "Epoch 32/100\n",
      "\u001b[1m77/77\u001b[0m \u001b[32m━━━━━━━━━━━━━━━━━━━━\u001b[0m\u001b[37m\u001b[0m \u001b[1m0s\u001b[0m 1ms/step - loss: 0.0392 - mae: 0.1590 - val_loss: 0.0615 - val_mae: 0.1939\n",
      "Epoch 33/100\n",
      "\u001b[1m77/77\u001b[0m \u001b[32m━━━━━━━━━━━━━━━━━━━━\u001b[0m\u001b[37m\u001b[0m \u001b[1m0s\u001b[0m 1ms/step - loss: 0.0409 - mae: 0.1616 - val_loss: 0.0625 - val_mae: 0.1982\n",
      "Epoch 34/100\n",
      "\u001b[1m77/77\u001b[0m \u001b[32m━━━━━━━━━━━━━━━━━━━━\u001b[0m\u001b[37m\u001b[0m \u001b[1m0s\u001b[0m 1ms/step - loss: 0.0388 - mae: 0.1568 - val_loss: 0.0617 - val_mae: 0.1953\n",
      "Epoch 35/100\n",
      "\u001b[1m77/77\u001b[0m \u001b[32m━━━━━━━━━━━━━━━━━━━━\u001b[0m\u001b[37m\u001b[0m \u001b[1m0s\u001b[0m 1ms/step - loss: 0.0442 - mae: 0.1686 - val_loss: 0.0607 - val_mae: 0.1926\n",
      "Epoch 36/100\n",
      "\u001b[1m77/77\u001b[0m \u001b[32m━━━━━━━━━━━━━━━━━━━━\u001b[0m\u001b[37m\u001b[0m \u001b[1m0s\u001b[0m 1ms/step - loss: 0.0374 - mae: 0.1550 - val_loss: 0.0613 - val_mae: 0.1929\n",
      "Epoch 37/100\n",
      "\u001b[1m77/77\u001b[0m \u001b[32m━━━━━━━━━━━━━━━━━━━━\u001b[0m\u001b[37m\u001b[0m \u001b[1m0s\u001b[0m 1ms/step - loss: 0.0392 - mae: 0.1559 - val_loss: 0.0616 - val_mae: 0.1945\n",
      "Epoch 38/100\n",
      "\u001b[1m77/77\u001b[0m \u001b[32m━━━━━━━━━━━━━━━━━━━━\u001b[0m\u001b[37m\u001b[0m \u001b[1m0s\u001b[0m 1ms/step - loss: 0.0371 - mae: 0.1528 - val_loss: 0.0605 - val_mae: 0.1935\n",
      "Epoch 39/100\n",
      "\u001b[1m77/77\u001b[0m \u001b[32m━━━━━━━━━━━━━━━━━━━━\u001b[0m\u001b[37m\u001b[0m \u001b[1m0s\u001b[0m 1ms/step - loss: 0.0381 - mae: 0.1552 - val_loss: 0.0593 - val_mae: 0.1885\n",
      "Epoch 40/100\n",
      "\u001b[1m77/77\u001b[0m \u001b[32m━━━━━━━━━━━━━━━━━━━━\u001b[0m\u001b[37m\u001b[0m \u001b[1m0s\u001b[0m 1ms/step - loss: 0.0372 - mae: 0.1533 - val_loss: 0.0641 - val_mae: 0.2014\n",
      "Epoch 41/100\n",
      "\u001b[1m77/77\u001b[0m \u001b[32m━━━━━━━━━━━━━━━━━━━━\u001b[0m\u001b[37m\u001b[0m \u001b[1m0s\u001b[0m 1ms/step - loss: 0.0370 - mae: 0.1566 - val_loss: 0.0604 - val_mae: 0.1917\n",
      "Epoch 42/100\n",
      "\u001b[1m77/77\u001b[0m \u001b[32m━━━━━━━━━━━━━━━━━━━━\u001b[0m\u001b[37m\u001b[0m \u001b[1m0s\u001b[0m 1ms/step - loss: 0.0350 - mae: 0.1504 - val_loss: 0.0608 - val_mae: 0.1912\n",
      "Epoch 43/100\n",
      "\u001b[1m77/77\u001b[0m \u001b[32m━━━━━━━━━━━━━━━━━━━━\u001b[0m\u001b[37m\u001b[0m \u001b[1m0s\u001b[0m 1ms/step - loss: 0.0377 - mae: 0.1571 - val_loss: 0.0623 - val_mae: 0.1971\n",
      "Epoch 44/100\n",
      "\u001b[1m77/77\u001b[0m \u001b[32m━━━━━━━━━━━━━━━━━━━━\u001b[0m\u001b[37m\u001b[0m \u001b[1m0s\u001b[0m 1ms/step - loss: 0.0381 - mae: 0.1576 - val_loss: 0.0621 - val_mae: 0.1957\n"
     ]
    }
   ],
   "source": [
    "#early stopping method is used to prevent overfitting\n",
    "early_stopping = tf.keras.callbacks.EarlyStopping(monitor='val_loss', patience=5)\n",
    "history = model.fit(x_train, y_train, validation_data=(x_val, y_val), epochs=100,callbacks=[early_stopping], batch_size=16, verbose=1)\n",
    "#batch size is chosen according to number of neurons in our models four layer and the number of entries which is 1530\n",
    "#verbose is used to give us information about our model during training"
   ]
  },
  {
   "cell_type": "markdown",
   "metadata": {},
   "source": [
    "- Plotting the Loss and Validation Loss over epochs"
   ]
  },
  {
   "cell_type": "code",
   "execution_count": 14,
   "metadata": {},
   "outputs": [
    {
     "data": {
      "image/png": "[encoded data removed]",
      "text/plain": [
       "<Figure size 1200x500 with 2 Axes>"
      ]
     },
     "metadata": {},
     "output_type": "display_data"
    }
   ],
   "source": [
    "plt.figure(figsize=(12, 5))\n",
    "plt.subplot(1, 2, 1)\n",
    "plt.plot(history.history['loss'], label='Train Loss')\n",
    "plt.plot(history.history['val_loss'], label='Validation Loss')\n",
    "plt.xlabel(\"Epoch\")\n",
    "plt.ylabel(\"Loss (MSE)\")\n",
    "plt.legend()\n",
    "plt.title(\"Training vs Validation Loss\")\n",
    "\n",
    "plt.subplot(1, 2, 2)\n",
    "plt.plot(history.history['mae'], label='Train MAE')\n",
    "plt.plot(history.history['val_mae'], label='Validation MAE')\n",
    "plt.xlabel(\"Epoch\")\n",
    "plt.ylabel(\"Mean Absolute Error\")\n",
    "plt.legend()\n",
    "plt.title(\"Training vs Validation MAE\")\n",
    "plt.show()"
   ]
  },
  {
   "cell_type": "markdown",
   "metadata": {},
   "source": [
    "- Testing the Model"
   ]
  },
  {
   "cell_type": "code",
   "execution_count": 15,
   "metadata": {},
   "outputs": [
    {
     "name": "stdout",
     "output_type": "stream",
     "text": [
      "\u001b[1m12/12\u001b[0m \u001b[32m━━━━━━━━━━━━━━━━━━━━\u001b[0m\u001b[37m\u001b[0m \u001b[1m0s\u001b[0m 3ms/step \n",
      "R^2 Score: 0.9217\n"
     ]
    }
   ],
   "source": [
    "from sklearn.metrics import r2_score\n",
    "\n",
    "y_pred = model.predict(x_test)\n",
    "r2 = r2_score(y_test, y_pred)\n",
    "print(f\"R^2 Score: {r2:.4f}\")"
   ]
  }
 ],
 "metadata": {
  "kernelspec": {
   "display_name": "Python 3",
   "language": "python",
   "name": "python3"
  },
  "language_info": {
   "codemirror_mode": {
    "name": "ipython",
    "version": 3
   },
   "file_extension": ".py",
   "mimetype": "text/x-python",
   "name": "python",
   "nbconvert_exporter": "python",
   "pygments_lexer": "ipython3",
   "version": "3.10.11"
  }
 },
 "nbformat": 4,
 "nbformat_minor": 2
}
